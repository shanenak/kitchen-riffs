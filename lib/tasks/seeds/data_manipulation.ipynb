{
 "cells": [
  {
   "cell_type": "markdown",
   "metadata": {},
   "source": [
    "### Import pandas library"
   ]
  },
  {
   "cell_type": "code",
   "execution_count": 156,
   "metadata": {},
   "outputs": [],
   "source": [
    "import pandas as pd"
   ]
  },
  {
   "cell_type": "markdown",
   "metadata": {},
   "source": [
    "### Read recipe json (populated from ChatGPT)"
   ]
  },
  {
   "cell_type": "code",
   "execution_count": 157,
   "metadata": {},
   "outputs": [],
   "source": [
    "recipes = pd.read_json('../static/recipes.json', orient='records')\n",
    "recipes = pd.json_normalize(recipes['recipes'], max_level=0)[['name', 'author', 'meal', 'dish', 'cuisine', 'servings', 'time_required', 'ingredients', 'directions']]\n",
    "recipes = recipes.reset_index().rename(columns={'index': 'recipe_id'})"
   ]
  },
  {
   "cell_type": "markdown",
   "metadata": {},
   "source": [
    "### Retrieve users from the recipe list to populate User table"
   ]
  },
  {
   "cell_type": "code",
   "execution_count": 158,
   "metadata": {},
   "outputs": [],
   "source": [
    "users = recipes.drop_duplicates('author')['author'].reset_index(drop=True)\n",
    "users = users.reset_index().rename(columns={'index': 'user_id', 'author': 'name'})"
   ]
  },
  {
   "cell_type": "markdown",
   "metadata": {},
   "source": [
    "### Retrieve ingredients from the recipe list to populate Ingredient table"
   ]
  },
  {
   "cell_type": "code",
   "execution_count": 159,
   "metadata": {},
   "outputs": [],
   "source": [
    "ingredients = recipes.explode('ingredients')\n",
    "ingredients = ingredients.reset_index()\n",
    "ingredients = ingredients.drop(columns='name')\n",
    "split = pd.DataFrame(ingredients['ingredients'].to_list(), columns = ['name', 'amount', 'metric'])\n",
    "ingredients = pd.concat([ingredients, split], axis=1)[['recipe_id', 'name', 'amount', 'metric']]\n",
    "ingredients = ingredients.reset_index().rename(columns={'index': 'ingredient_id'})"
   ]
  },
  {
   "cell_type": "markdown",
   "metadata": {},
   "source": [
    "### Use IDs from Ingredient and User table to add references in Recipe table"
   ]
  },
  {
   "cell_type": "code",
   "execution_count": 160,
   "metadata": {},
   "outputs": [],
   "source": [
    "recipes['ingredients'] = recipes['recipe_id'].apply(lambda x: ingredients.loc[ingredients['recipe_id'] == x, 'ingredient_id'].to_list())"
   ]
  },
  {
   "cell_type": "code",
   "execution_count": 161,
   "metadata": {},
   "outputs": [],
   "source": [
    "recipes['user_id'] = recipes['author'].apply(lambda x: users.loc[users['name']== x, 'user_id'].iloc[0])\n",
    "recipes = recipes.drop(columns = 'author')"
   ]
  },
  {
   "cell_type": "markdown",
   "metadata": {},
   "source": [
    "### Verify tables have been set up properly"
   ]
  },
  {
   "cell_type": "code",
   "execution_count": 162,
   "metadata": {},
   "outputs": [
    {
     "data": {
      "text/html": [
       "<div>\n",
       "<style scoped>\n",
       "    .dataframe tbody tr th:only-of-type {\n",
       "        vertical-align: middle;\n",
       "    }\n",
       "\n",
       "    .dataframe tbody tr th {\n",
       "        vertical-align: top;\n",
       "    }\n",
       "\n",
       "    .dataframe thead th {\n",
       "        text-align: right;\n",
       "    }\n",
       "</style>\n",
       "<table border=\"1\" class=\"dataframe\">\n",
       "  <thead>\n",
       "    <tr style=\"text-align: right;\">\n",
       "      <th></th>\n",
       "      <th>recipe_id</th>\n",
       "      <th>name</th>\n",
       "      <th>meal</th>\n",
       "      <th>dish</th>\n",
       "      <th>cuisine</th>\n",
       "      <th>servings</th>\n",
       "      <th>time_required</th>\n",
       "      <th>ingredients</th>\n",
       "      <th>directions</th>\n",
       "      <th>user_id</th>\n",
       "    </tr>\n",
       "  </thead>\n",
       "  <tbody>\n",
       "    <tr>\n",
       "      <th>0</th>\n",
       "      <td>0</td>\n",
       "      <td>Vibrant Green Detox Smoothie</td>\n",
       "      <td>Breakfast</td>\n",
       "      <td>Smoothie</td>\n",
       "      <td>Healthy</td>\n",
       "      <td>1</td>\n",
       "      <td>10 minutes</td>\n",
       "      <td>[0, 1, 2, 3, 4, 5, 6, 7, 8]</td>\n",
       "      <td>[In a blender, combine spinach, kale, frozen b...</td>\n",
       "      <td>0</td>\n",
       "    </tr>\n",
       "    <tr>\n",
       "      <th>1</th>\n",
       "      <td>1</td>\n",
       "      <td>Quinoa and Chickpea Buddha Bowl</td>\n",
       "      <td>Main</td>\n",
       "      <td>Bowl</td>\n",
       "      <td>Mediterranean</td>\n",
       "      <td>2</td>\n",
       "      <td>30 minutes</td>\n",
       "      <td>[9, 10, 11, 12, 13, 14, 15, 16, 17, 18, 19, 20...</td>\n",
       "      <td>[Rinse the quinoa thoroughly and cook accordin...</td>\n",
       "      <td>0</td>\n",
       "    </tr>\n",
       "    <tr>\n",
       "      <th>2</th>\n",
       "      <td>2</td>\n",
       "      <td>Chocolate Avocado Protein Balls</td>\n",
       "      <td>Snack</td>\n",
       "      <td>Protein Balls</td>\n",
       "      <td>Healthy</td>\n",
       "      <td>12</td>\n",
       "      <td>20 minutes</td>\n",
       "      <td>[22, 23, 24, 25, 26, 27, 28, 29, 30, 31]</td>\n",
       "      <td>[In a food processor, combine ripe avocado, oa...</td>\n",
       "      <td>0</td>\n",
       "    </tr>\n",
       "    <tr>\n",
       "      <th>3</th>\n",
       "      <td>3</td>\n",
       "      <td>Classic Beef Lasagna</td>\n",
       "      <td>Dinner</td>\n",
       "      <td>Pasta</td>\n",
       "      <td>Italian</td>\n",
       "      <td>6</td>\n",
       "      <td>1 hour 30 minutes</td>\n",
       "      <td>[32, 33, 34, 35, 36, 37, 38, 39, 40, 41, 42, 4...</td>\n",
       "      <td>[Preheat the oven to 190°C (375°F)., In a skil...</td>\n",
       "      <td>1</td>\n",
       "    </tr>\n",
       "    <tr>\n",
       "      <th>4</th>\n",
       "      <td>4</td>\n",
       "      <td>Lemon Herb Roasted Chicken</td>\n",
       "      <td>Dinner</td>\n",
       "      <td>Roasted Chicken</td>\n",
       "      <td>American</td>\n",
       "      <td>4</td>\n",
       "      <td>1 hour 30 minutes</td>\n",
       "      <td>[46, 47, 48, 49, 50, 51, 52, 53]</td>\n",
       "      <td>[Preheat the oven to 220°C (425°F)., Rinse the...</td>\n",
       "      <td>2</td>\n",
       "    </tr>\n",
       "  </tbody>\n",
       "</table>\n",
       "</div>"
      ],
      "text/plain": [
       "   recipe_id                             name       meal             dish   \n",
       "0          0     Vibrant Green Detox Smoothie  Breakfast         Smoothie  \\\n",
       "1          1  Quinoa and Chickpea Buddha Bowl       Main             Bowl   \n",
       "2          2  Chocolate Avocado Protein Balls      Snack    Protein Balls   \n",
       "3          3             Classic Beef Lasagna     Dinner            Pasta   \n",
       "4          4       Lemon Herb Roasted Chicken     Dinner  Roasted Chicken   \n",
       "\n",
       "         cuisine servings      time_required   \n",
       "0        Healthy        1         10 minutes  \\\n",
       "1  Mediterranean        2         30 minutes   \n",
       "2        Healthy       12         20 minutes   \n",
       "3        Italian        6  1 hour 30 minutes   \n",
       "4       American        4  1 hour 30 minutes   \n",
       "\n",
       "                                         ingredients   \n",
       "0                        [0, 1, 2, 3, 4, 5, 6, 7, 8]  \\\n",
       "1  [9, 10, 11, 12, 13, 14, 15, 16, 17, 18, 19, 20...   \n",
       "2           [22, 23, 24, 25, 26, 27, 28, 29, 30, 31]   \n",
       "3  [32, 33, 34, 35, 36, 37, 38, 39, 40, 41, 42, 4...   \n",
       "4                   [46, 47, 48, 49, 50, 51, 52, 53]   \n",
       "\n",
       "                                          directions  user_id  \n",
       "0  [In a blender, combine spinach, kale, frozen b...        0  \n",
       "1  [Rinse the quinoa thoroughly and cook accordin...        0  \n",
       "2  [In a food processor, combine ripe avocado, oa...        0  \n",
       "3  [Preheat the oven to 190°C (375°F)., In a skil...        1  \n",
       "4  [Preheat the oven to 220°C (425°F)., Rinse the...        2  "
      ]
     },
     "execution_count": 162,
     "metadata": {},
     "output_type": "execute_result"
    }
   ],
   "source": [
    "recipes.head()"
   ]
  },
  {
   "cell_type": "markdown",
   "metadata": {},
   "source": [
    "### QA/QC to make sure the numbers are isolated"
   ]
  },
  {
   "cell_type": "code",
   "execution_count": 163,
   "metadata": {},
   "outputs": [
    {
     "data": {
      "text/plain": [
       "array(['2', '1', '1 can', '1 head', '3', '', '1/2', '1/4', '9', '24',\n",
       "       '14.5', '15', '4', '6', '1 pound', '28 ounces', '6 ounces',\n",
       "       '2 teaspoons', '1 teaspoon', '1/2 teaspoon', '15 ounces', '2 cups',\n",
       "       '1/2 cup', '2 tablespoons', '14 ounces', '1 tablespoon', '1/4 cup',\n",
       "       '4 cups', '1/4 teaspoon', '250', '200', 'a handful', '500', '8',\n",
       "       'for dipping', '1 1/2', '400', 'for topping', '300', '100', '800',\n",
       "       'for frying'], dtype=object)"
      ]
     },
     "execution_count": 163,
     "metadata": {},
     "output_type": "execute_result"
    }
   ],
   "source": [
    "ingredients['amount'].unique()"
   ]
  },
  {
   "cell_type": "code",
   "execution_count": null,
   "metadata": {},
   "outputs": [],
   "source": []
  }
 ],
 "metadata": {
  "kernelspec": {
   "display_name": "Python 3",
   "language": "python",
   "name": "python3"
  },
  "language_info": {
   "codemirror_mode": {
    "name": "ipython",
    "version": 3
   },
   "file_extension": ".py",
   "mimetype": "text/x-python",
   "name": "python",
   "nbconvert_exporter": "python",
   "pygments_lexer": "ipython3",
   "version": "3.11.4"
  },
  "orig_nbformat": 4
 },
 "nbformat": 4,
 "nbformat_minor": 2
}
