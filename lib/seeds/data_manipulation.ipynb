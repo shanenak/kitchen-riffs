{
 "cells": [
  {
   "cell_type": "markdown",
   "metadata": {},
   "source": [
    "### Import pandas library"
   ]
  },
  {
   "cell_type": "code",
   "execution_count": 122,
   "metadata": {},
   "outputs": [],
   "source": [
    "import pandas as pd\n",
    "import numpy as np"
   ]
  },
  {
   "cell_type": "markdown",
   "metadata": {},
   "source": [
    "## Read Recipe data and write CSVs for Recipes, Ingredients, and Users"
   ]
  },
  {
   "cell_type": "markdown",
   "metadata": {},
   "source": [
    "### Read recipe json and clean dataframe (populated from ChatGPT)"
   ]
  },
  {
   "cell_type": "code",
   "execution_count": 132,
   "metadata": {},
   "outputs": [],
   "source": [
    "recipes = pd.read_json('../seeds/recipes.json', orient='records')\n",
    "recipes = pd.json_normalize(recipes['recipes'], max_level=0)[['name', 'author', 'meal', 'dish', 'cuisine', 'servings', 'time_required', 'ingredients', 'directions']]\n",
    "recipes = recipes.reset_index().rename(columns={'index': 'recipe_id'})"
   ]
  },
  {
   "cell_type": "markdown",
   "metadata": {},
   "source": [
    "### Retrieve users from the recipe list to populate User table"
   ]
  },
  {
   "cell_type": "code",
   "execution_count": 133,
   "metadata": {},
   "outputs": [],
   "source": [
    "users = recipes.drop_duplicates('author')['author'].reset_index(drop=True)\n",
    "users = users.reset_index().rename(columns={'index': 'user_id', 'author': 'name'})"
   ]
  },
  {
   "cell_type": "markdown",
   "metadata": {},
   "source": [
    "### Retrieve ingredients from the recipe list to populate Ingredient table"
   ]
  },
  {
   "cell_type": "code",
   "execution_count": 134,
   "metadata": {},
   "outputs": [],
   "source": [
    "ingredients = recipes.explode('ingredients')\n",
    "ingredients = ingredients.reset_index()\n",
    "ingredients = ingredients.drop(columns='name')\n",
    "split = pd.DataFrame(ingredients['ingredients'].to_list(), columns = ['name', 'amount', 'metric'])\n",
    "ingredients = pd.concat([ingredients, split], axis=1)[['recipe_id', 'name', 'amount', 'metric']]\n",
    "ingredients = ingredients.reset_index().rename(columns={'index': 'ingredient_id'})"
   ]
  },
  {
   "cell_type": "markdown",
   "metadata": {},
   "source": [
    "### Use IDs from Ingredient and User table to add references in Recipe table"
   ]
  },
  {
   "cell_type": "code",
   "execution_count": 135,
   "metadata": {},
   "outputs": [],
   "source": [
    "recipes['ingredients'] = recipes['recipe_id'].apply(lambda x: ingredients.loc[ingredients['recipe_id'] == x, 'ingredient_id'].to_list())"
   ]
  },
  {
   "cell_type": "code",
   "execution_count": 136,
   "metadata": {},
   "outputs": [],
   "source": [
    "recipes['user_id'] = recipes['author'].apply(lambda x: users.loc[users['name']== x, 'user_id'].iloc[0])\n",
    "recipes = recipes.drop(columns = 'author')"
   ]
  },
  {
   "cell_type": "code",
   "execution_count": 137,
   "metadata": {},
   "outputs": [
    {
     "data": {
      "text/plain": [
       "88"
      ]
     },
     "execution_count": 137,
     "metadata": {},
     "output_type": "execute_result"
    }
   ],
   "source": [
    "# recipes.name.drop_duplicates().count()\n",
    "recipes.name.count()"
   ]
  },
  {
   "cell_type": "markdown",
   "metadata": {},
   "source": [
    "### Verify tables have been set up properly"
   ]
  },
  {
   "cell_type": "code",
   "execution_count": 138,
   "metadata": {},
   "outputs": [],
   "source": [
    "# recipes.head()"
   ]
  },
  {
   "cell_type": "code",
   "execution_count": 139,
   "metadata": {},
   "outputs": [
    {
     "data": {
      "text/plain": [
       "array(['spinach', 'kale', 'banana', 'green_apple', 'kiwi', 'ginger',\n",
       "       'chia_seeds', 'coconut_water', 'ice', 'quinoa', 'chickpeas',\n",
       "       'sweet_potato', 'broccoli', 'avocado', 'carrots', 'cucumber',\n",
       "       'sesame_seeds', 'olive_oil', 'lemon_juice', 'garlic', 'salt',\n",
       "       'pepper', 'whole_chicken', 'lemons', 'fresh_thyme',\n",
       "       'fresh_rosemary', 'black_pepper', 'lentils', 'onion', 'tomatoes',\n",
       "       'coconut_milk', 'curry_powder', 'cumin', 'coriander', 'turmeric',\n",
       "       'cayenne_pepper', 'fresh_cilantro', 'lasagna_noodles',\n",
       "       'ground_beef', 'crushed_tomatoes', 'tomato_paste', 'sugar',\n",
       "       'dried_basil', 'dried_oregano', 'ricotta_cheese',\n",
       "       'mozzarella_cheese', 'parmesan_cheese', 'fresh_parsley', 'shrimp',\n",
       "       'red_curry_paste', 'bell_pepper', 'zucchini', 'fish_sauce',\n",
       "       'brown_sugar', 'lime_juice', 'fresh_basil', 'cooked_rice',\n",
       "       'salmon_fillets', 'lemon', 'breadcrumbs', 'sausage', 'celery',\n",
       "       'rice', 'vegetable_broth', 'cajun_seasoning', 'green_onions',\n",
       "       'red_onion', 'kalamata_olives', 'feta_cheese',\n",
       "       'extra_virgin_olive_oil', 'red_wine_vinegar', 'pizza_dough',\n",
       "       'tomato_sauce', 'fresh_mozzarella', 'taco_seasoning',\n",
       "       'taco_shells', 'lettuce', 'cheddar_cheese', 'sour_cream', 'salsa',\n",
       "       'sushi_rice', 'nori_sheets', 'carrot', 'soy_sauce',\n",
       "       'pickled_ginger', 'wasabi', 'chicken_breasts', 'eggs',\n",
       "       'panko_breadcrumbs', 'all_purpose_flour', 'Japanese_curry_sauce',\n",
       "       'steamed_rice', 'vegetable_oil', 'chicken_thighs', 'vinegar',\n",
       "       'black_peppercorns', 'bay_leaves', 'cooking_oil',\n",
       "       'pancit_canton_noodles', 'cabbage', 'oyster_sauce', 'shaved_ice',\n",
       "       'evaporated_milk', 'sweetened_red_mung_beans', 'jackfruit',\n",
       "       'sago_pearls', 'coconut_gel', 'ube_jam', 'leche_flan',\n",
       "       'cornflakes', 'crushed_ice', 'rice_noodles', 'tofu',\n",
       "       'bean_sprouts', 'peanuts', 'lime', 'tamarind_paste',\n",
       "       'chili_powder', 'mushrooms', 'lemongrass', 'galangal',\n",
       "       'kaffir_lime_leaves', \"bird's_eye_chilies\", 'cherry_tomatoes',\n",
       "       'coriander_leaves', 'water', 'green_curry_paste', 'eggplant',\n",
       "       'bamboo_shoots', 'palm_sugar', 'thai_basil_leaves',\n",
       "       'thin_rice_noodles', 'catfish', 'fish_cake', 'turmeric_powder',\n",
       "       'chickpea_flour', 'banana_stem', 'hard-boiled_eggs',\n",
       "       'fermented_tea_leaves', 'tomato', 'roasted_peanuts',\n",
       "       'green_chilies', 'chicken', 'potatoes', 'paprika', 'cumin_powder',\n",
       "       'coriander_powder', 'fresh_coriander_leaves', 'beef', 'sesame_oil',\n",
       "       'gochujang', 'kimchi', 'pork_belly', 'gochugaru', 'chicken_wings',\n",
       "       'potato_starch', 'garlic_powder', 'ginger_powder', 'rice_syrup',\n",
       "       'beef_brisket', 'beef_tendon', 'Chinese_wheat_noodles',\n",
       "       'beef_broth', 'dried_soybeans', 'scallions', 'star_anise',\n",
       "       'cinnamon_stick', 'sichuan_peppercorns', 'oysters',\n",
       "       'sweet_potato_flour', 'sweet_potato_starch_syrup',\n",
       "       'black_tea_leaves', 'tapioca_pearls', 'milk', 'jasmine_rice',\n",
       "       'pandan_leaves', 'anchovies', 'sambal', 'all-purpose_flour',\n",
       "       'condensed_milk', 'egg', 'ghee', 'rice_vermicelli',\n",
       "       'chicken_breast', 'tofu_puffs', 'laksa_paste', 'bamboo_skewers',\n",
       "       'peanut_sauce', 'pork_ribs', 'tamarind_soup_base', 'radish',\n",
       "       'long_green_chili', 'pineapple_juice', 'ketchup', 'rice_vinegar',\n",
       "       'pineapple', 'salmon', 'chili_pepper', 'sea_salt',\n",
       "       'iceberg_lettuce', 'cilantro', 'taro_chips', 'honey', 'yogurt',\n",
       "       'mint_leaves', 'vegetables_of_choice', 'cornstarch', 'cold_water',\n",
       "       'tempura_dipping_sauce', 'dashi', 'miso_paste', 'wakame_seaweed',\n",
       "       'mirin', 'pork_loin', 'corn_tortillas', 'achiote_paste',\n",
       "       'white_vinegar', 'oregano', 'avocados', 'jalapeno',\n",
       "       'tortilla_chips', 'cooked_chicken', 'enchilada_sauce',\n",
       "       'black_olives', 'beef_steak', 'yellow_pepper',\n",
       "       'aji_amarillo_paste', 'french_fries', 'white_fish', 'aji_amarillo',\n",
       "       'corn', 'corn_nuts', 'bread', 'walnuts', 'olives', 'red_onions',\n",
       "       'berbere_spice_blend', 'oil', 'jalapeno_peppers', 'injera_bread',\n",
       "       'teff_flour', 'baking_soda', 'butter', 'mitmita_spice_blend',\n",
       "       'cardamom_powder', 'jalapeno_pepper', 'green_cabbage_leaves',\n",
       "       'rice_cakes', 'green_chili', 'dried_red_chilies', 'chicken_broth',\n",
       "       'lo_mein_noodles', 'snow_peas', 'ground_pork', 'doubanjiang',\n",
       "       'chicken_stock', 'Szechuan_peppercorns', 'round_dumpling_wrappers',\n",
       "       'peas', 'canned_tomatoes', 'green_olives', 'capers', 'pine_nuts',\n",
       "       'beef_bones', 'cloves', 'coriander_seeds', 'cardamom_pod',\n",
       "       'rock_sugar', 'fresh_basil_leaves', 'fresh_mint_leaves',\n",
       "       'fresh_cilantro_leaves', 'rice_paper', 'hoisin_sauce',\n",
       "       'peanut_hoisin_dipping_sauce', 'shallots', 'red_chilies', 'crab',\n",
       "       'chili_sauce', 'ground_mutton', 'black-eyed_beans', 'mustard_oil',\n",
       "       'teriyaki_sauce', 'buns', 'cheese', 'mayonnaise', 'imitation_crab',\n",
       "       'maple_syrup', 'sourdough_bread', 'sharp_cheddar_cheese',\n",
       "       'beef_bulgogi', 'bulgogi_marinated_beef', 'red_bell_pepper',\n",
       "       'matzo_ball_mix', 'dill', 'parsley', 'red_wine', 'rosemary',\n",
       "       'thyme', 'unsalted_butter', 'cream_cheese', 'cinnamon', 'raisins',\n",
       "       'apricot_preserves', 'powdered_sugar', 'sticky_rice', 'mangoes',\n",
       "       'dark_chocolate', 'egg_yolk', 'vanilla_extract', 'cocoa_powder',\n",
       "       'graham_cracker_crumbs', 'whipping_cream', 'strawberries',\n",
       "       'strawberry_jam', 'blueberries', 'baking_powder',\n",
       "       'whole_grain_bread', 'red_chili_flakes', 'Greek_yogurt', 'granola',\n",
       "       'almonds', 'coconut_flakes', 'butternut_squash', 'nutmeg',\n",
       "       'apples', 'granulated_sugar', 'rolled_oats', 'vanilla_ice_cream',\n",
       "       'beef_stew_meat', 'Worcestershire_sauce', 'flour', 'arborio_rice',\n",
       "       'dry_white_wine', 'dried_savory', 'dried_rosemary', 'dried_thyme',\n",
       "       'pie_crust', 'bacon', 'bay_leaf', 'bell_peppers', 'basil', 'ham',\n",
       "       'gruyère_cheese', 'heavy_cream', 'egg_yolks'], dtype=object)"
      ]
     },
     "execution_count": 139,
     "metadata": {},
     "output_type": "execute_result"
    }
   ],
   "source": [
    "ingredients['name'].unique()"
   ]
  },
  {
   "cell_type": "markdown",
   "metadata": {},
   "source": [
    "### QA/QC to make sure the numbers are isolated"
   ]
  },
  {
   "cell_type": "code",
   "execution_count": 140,
   "metadata": {},
   "outputs": [
    {
     "data": {
      "text/plain": [
       "array(['2', '1', '3', '', '4', '6', '1/4', '1/2', '9', '28', '15', '14',\n",
       "       '250', '200', '500', '8', '1 1/2', '400', '300', '100', '800',\n",
       "       '20', '12', '5', '150', '30', '32', '1/3', '16', '1.5', '750'],\n",
       "      dtype=object)"
      ]
     },
     "execution_count": 140,
     "metadata": {},
     "output_type": "execute_result"
    }
   ],
   "source": [
    "ingredients['amount'].unique()"
   ]
  },
  {
   "cell_type": "markdown",
   "metadata": {},
   "source": [
    "### Write to tables to individual CSVs "
   ]
  },
  {
   "cell_type": "code",
   "execution_count": 49,
   "metadata": {},
   "outputs": [],
   "source": [
    "recipes.to_csv('recipes.csv')"
   ]
  },
  {
   "cell_type": "code",
   "execution_count": 50,
   "metadata": {},
   "outputs": [],
   "source": [
    "ingredients.to_csv('ingredients.csv')"
   ]
  },
  {
   "cell_type": "code",
   "execution_count": 51,
   "metadata": {},
   "outputs": [],
   "source": [
    "users.to_csv('users.csv')"
   ]
  },
  {
   "cell_type": "markdown",
   "metadata": {},
   "source": [
    "## Read Comments JSON and write to Ratings CSV"
   ]
  },
  {
   "cell_type": "markdown",
   "metadata": {},
   "source": [
    "### Read comments json and clean dataframe (populated from ChatGPT)"
   ]
  },
  {
   "cell_type": "code",
   "execution_count": 117,
   "metadata": {},
   "outputs": [],
   "source": [
    "ratings = pd.read_json('../seeds/comments.json', orient='index')\n",
    "ratings = ratings['comments'].explode()\n",
    "ratings = ratings.reset_index().rename(columns={'index':'recipe_id', 'comments': 'comment'})"
   ]
  },
  {
   "cell_type": "markdown",
   "metadata": {},
   "source": [
    "### Generate random ratings and user_ids"
   ]
  },
  {
   "cell_type": "code",
   "execution_count": 118,
   "metadata": {},
   "outputs": [],
   "source": [
    "ratings['rating'] = np.random.randint(3, 6, ratings.shape[0])\n",
    "ratings['user_id'] = np.random.randint(0, 49, ratings.shape[0])\n",
    "ratings = ratings.reset_index().rename(columns={'index':'rating_id'})"
   ]
  },
  {
   "cell_type": "markdown",
   "metadata": {},
   "source": [
    "### Verify data is formatted correctly"
   ]
  },
  {
   "cell_type": "code",
   "execution_count": 119,
   "metadata": {},
   "outputs": [
    {
     "data": {
      "text/html": [
       "<div>\n",
       "<style scoped>\n",
       "    .dataframe tbody tr th:only-of-type {\n",
       "        vertical-align: middle;\n",
       "    }\n",
       "\n",
       "    .dataframe tbody tr th {\n",
       "        vertical-align: top;\n",
       "    }\n",
       "\n",
       "    .dataframe thead th {\n",
       "        text-align: right;\n",
       "    }\n",
       "</style>\n",
       "<table border=\"1\" class=\"dataframe\">\n",
       "  <thead>\n",
       "    <tr style=\"text-align: right;\">\n",
       "      <th></th>\n",
       "      <th>rating_id</th>\n",
       "      <th>recipe_id</th>\n",
       "      <th>comment</th>\n",
       "      <th>rating</th>\n",
       "      <th>user_id</th>\n",
       "    </tr>\n",
       "  </thead>\n",
       "  <tbody>\n",
       "    <tr>\n",
       "      <th>130</th>\n",
       "      <td>130</td>\n",
       "      <td>48</td>\n",
       "      <td>A taste of Korea! The Dak Galbi was flavorful ...</td>\n",
       "      <td>3</td>\n",
       "      <td>19</td>\n",
       "    </tr>\n",
       "    <tr>\n",
       "      <th>131</th>\n",
       "      <td>131</td>\n",
       "      <td>48</td>\n",
       "      <td>Delicious and satisfying. Dak Galbi is a must-...</td>\n",
       "      <td>3</td>\n",
       "      <td>16</td>\n",
       "    </tr>\n",
       "    <tr>\n",
       "      <th>132</th>\n",
       "      <td>132</td>\n",
       "      <td>49</td>\n",
       "      <td>Banchan - Spinach Namul is a Korean side dish ...</td>\n",
       "      <td>3</td>\n",
       "      <td>0</td>\n",
       "    </tr>\n",
       "    <tr>\n",
       "      <th>133</th>\n",
       "      <td>133</td>\n",
       "      <td>49</td>\n",
       "      <td>A taste of Korea! The Banchan - Spinach Namul ...</td>\n",
       "      <td>5</td>\n",
       "      <td>47</td>\n",
       "    </tr>\n",
       "    <tr>\n",
       "      <th>134</th>\n",
       "      <td>134</td>\n",
       "      <td>49</td>\n",
       "      <td>Authentic and delicious. Banchan - Spinach Nam...</td>\n",
       "      <td>5</td>\n",
       "      <td>21</td>\n",
       "    </tr>\n",
       "    <tr>\n",
       "      <th>135</th>\n",
       "      <td>135</td>\n",
       "      <td>5</td>\n",
       "      <td>Spicy, savory, and the shrimp were cooked to p...</td>\n",
       "      <td>3</td>\n",
       "      <td>45</td>\n",
       "    </tr>\n",
       "    <tr>\n",
       "      <th>136</th>\n",
       "      <td>136</td>\n",
       "      <td>5</td>\n",
       "      <td>Absolutely loved it! The balance of flavors an...</td>\n",
       "      <td>4</td>\n",
       "      <td>36</td>\n",
       "    </tr>\n",
       "    <tr>\n",
       "      <th>137</th>\n",
       "      <td>137</td>\n",
       "      <td>5</td>\n",
       "      <td>Thai red curry is my go-to, and this recipe di...</td>\n",
       "      <td>4</td>\n",
       "      <td>4</td>\n",
       "    </tr>\n",
       "    <tr>\n",
       "      <th>138</th>\n",
       "      <td>138</td>\n",
       "      <td>6</td>\n",
       "      <td>Crispy on the outside, tender on the inside. T...</td>\n",
       "      <td>3</td>\n",
       "      <td>34</td>\n",
       "    </tr>\n",
       "    <tr>\n",
       "      <th>139</th>\n",
       "      <td>139</td>\n",
       "      <td>6</td>\n",
       "      <td>A delightful salmon dish. The lemon and garlic...</td>\n",
       "      <td>3</td>\n",
       "      <td>6</td>\n",
       "    </tr>\n",
       "    <tr>\n",
       "      <th>140</th>\n",
       "      <td>140</td>\n",
       "      <td>6</td>\n",
       "      <td>Perfectly crispy salmon with a burst of lemon ...</td>\n",
       "      <td>4</td>\n",
       "      <td>34</td>\n",
       "    </tr>\n",
       "    <tr>\n",
       "      <th>141</th>\n",
       "      <td>141</td>\n",
       "      <td>7</td>\n",
       "      <td>A spicy and hearty dish that's now in my regul...</td>\n",
       "      <td>4</td>\n",
       "      <td>34</td>\n",
       "    </tr>\n",
       "    <tr>\n",
       "      <th>142</th>\n",
       "      <td>142</td>\n",
       "      <td>7</td>\n",
       "      <td>This jambalaya has a great kick! The flavors a...</td>\n",
       "      <td>3</td>\n",
       "      <td>38</td>\n",
       "    </tr>\n",
       "    <tr>\n",
       "      <th>143</th>\n",
       "      <td>143</td>\n",
       "      <td>7</td>\n",
       "      <td>A great way to spice up my meals. I'll definit...</td>\n",
       "      <td>5</td>\n",
       "      <td>9</td>\n",
       "    </tr>\n",
       "    <tr>\n",
       "      <th>144</th>\n",
       "      <td>144</td>\n",
       "      <td>8</td>\n",
       "      <td>Fresh and vibrant! The feta and olives really ...</td>\n",
       "      <td>4</td>\n",
       "      <td>45</td>\n",
       "    </tr>\n",
       "    <tr>\n",
       "      <th>145</th>\n",
       "      <td>145</td>\n",
       "      <td>8</td>\n",
       "      <td>A classic Greek salad done right. Simple, yet ...</td>\n",
       "      <td>3</td>\n",
       "      <td>14</td>\n",
       "    </tr>\n",
       "    <tr>\n",
       "      <th>146</th>\n",
       "      <td>146</td>\n",
       "      <td>8</td>\n",
       "      <td>Love the crunch of the cucumbers and the tangi...</td>\n",
       "      <td>5</td>\n",
       "      <td>28</td>\n",
       "    </tr>\n",
       "    <tr>\n",
       "      <th>147</th>\n",
       "      <td>147</td>\n",
       "      <td>9</td>\n",
       "      <td>A simple and classic favorite. The combination...</td>\n",
       "      <td>4</td>\n",
       "      <td>44</td>\n",
       "    </tr>\n",
       "    <tr>\n",
       "      <th>148</th>\n",
       "      <td>148</td>\n",
       "      <td>9</td>\n",
       "      <td>Authentic and delicious. This Margherita pizza...</td>\n",
       "      <td>5</td>\n",
       "      <td>37</td>\n",
       "    </tr>\n",
       "    <tr>\n",
       "      <th>149</th>\n",
       "      <td>149</td>\n",
       "      <td>9</td>\n",
       "      <td>Perfectly balanced flavors. The basil really s...</td>\n",
       "      <td>3</td>\n",
       "      <td>20</td>\n",
       "    </tr>\n",
       "  </tbody>\n",
       "</table>\n",
       "</div>"
      ],
      "text/plain": [
       "     rating_id  recipe_id                                            comment   \n",
       "130        130         48  A taste of Korea! The Dak Galbi was flavorful ...  \\\n",
       "131        131         48  Delicious and satisfying. Dak Galbi is a must-...   \n",
       "132        132         49  Banchan - Spinach Namul is a Korean side dish ...   \n",
       "133        133         49  A taste of Korea! The Banchan - Spinach Namul ...   \n",
       "134        134         49  Authentic and delicious. Banchan - Spinach Nam...   \n",
       "135        135          5  Spicy, savory, and the shrimp were cooked to p...   \n",
       "136        136          5  Absolutely loved it! The balance of flavors an...   \n",
       "137        137          5  Thai red curry is my go-to, and this recipe di...   \n",
       "138        138          6  Crispy on the outside, tender on the inside. T...   \n",
       "139        139          6  A delightful salmon dish. The lemon and garlic...   \n",
       "140        140          6  Perfectly crispy salmon with a burst of lemon ...   \n",
       "141        141          7  A spicy and hearty dish that's now in my regul...   \n",
       "142        142          7  This jambalaya has a great kick! The flavors a...   \n",
       "143        143          7  A great way to spice up my meals. I'll definit...   \n",
       "144        144          8  Fresh and vibrant! The feta and olives really ...   \n",
       "145        145          8  A classic Greek salad done right. Simple, yet ...   \n",
       "146        146          8  Love the crunch of the cucumbers and the tangi...   \n",
       "147        147          9  A simple and classic favorite. The combination...   \n",
       "148        148          9  Authentic and delicious. This Margherita pizza...   \n",
       "149        149          9  Perfectly balanced flavors. The basil really s...   \n",
       "\n",
       "     rating  user_id  \n",
       "130       3       19  \n",
       "131       3       16  \n",
       "132       3        0  \n",
       "133       5       47  \n",
       "134       5       21  \n",
       "135       3       45  \n",
       "136       4       36  \n",
       "137       4        4  \n",
       "138       3       34  \n",
       "139       3        6  \n",
       "140       4       34  \n",
       "141       4       34  \n",
       "142       3       38  \n",
       "143       5        9  \n",
       "144       4       45  \n",
       "145       3       14  \n",
       "146       5       28  \n",
       "147       4       44  \n",
       "148       5       37  \n",
       "149       3       20  "
      ]
     },
     "execution_count": 119,
     "metadata": {},
     "output_type": "execute_result"
    }
   ],
   "source": [
    "ratings.tail(20)"
   ]
  },
  {
   "cell_type": "markdown",
   "metadata": {},
   "source": [
    "### QA/QC to make sure the recipe_ids are complete"
   ]
  },
  {
   "cell_type": "code",
   "execution_count": 120,
   "metadata": {},
   "outputs": [
    {
     "name": "stdout",
     "output_type": "stream",
     "text": [
      "set()\n",
      "set()\n"
     ]
    }
   ],
   "source": [
    "print(set(range(0, 50))-set(ratings.recipe_id.unique()))\n",
    "print(set(ratings.recipe_id.unique())-set(range(0, 50)))"
   ]
  },
  {
   "cell_type": "markdown",
   "metadata": {},
   "source": [
    "### Write to table to CSV"
   ]
  },
  {
   "cell_type": "code",
   "execution_count": 121,
   "metadata": {},
   "outputs": [],
   "source": [
    "ratings.to_csv('ratings.csv')"
   ]
  },
  {
   "cell_type": "code",
   "execution_count": null,
   "metadata": {},
   "outputs": [],
   "source": []
  }
 ],
 "metadata": {
  "kernelspec": {
   "display_name": "Python 3",
   "language": "python",
   "name": "python3"
  },
  "language_info": {
   "codemirror_mode": {
    "name": "ipython",
    "version": 3
   },
   "file_extension": ".py",
   "mimetype": "text/x-python",
   "name": "python",
   "nbconvert_exporter": "python",
   "pygments_lexer": "ipython3",
   "version": "3.11.4"
  },
  "orig_nbformat": 4
 },
 "nbformat": 4,
 "nbformat_minor": 2
}
