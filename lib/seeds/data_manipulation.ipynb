{
 "cells": [
  {
   "cell_type": "markdown",
   "metadata": {},
   "source": [
    "### Import pandas library"
   ]
  },
  {
   "cell_type": "code",
   "execution_count": 116,
   "metadata": {},
   "outputs": [],
   "source": [
    "import pandas as pd\n",
    "import numpy as np"
   ]
  },
  {
   "cell_type": "markdown",
   "metadata": {},
   "source": [
    "## Read Recipe data and write CSVs for Recipes, Ingredients, and Users"
   ]
  },
  {
   "cell_type": "markdown",
   "metadata": {},
   "source": [
    "### Read recipe json and clean dataframe (populated from ChatGPT)"
   ]
  },
  {
   "cell_type": "code",
   "execution_count": 38,
   "metadata": {},
   "outputs": [],
   "source": [
    "recipes = pd.read_json('../seeds/recipes.json', orient='records')\n",
    "recipes = pd.json_normalize(recipes['recipes'], max_level=0)[['name', 'author', 'meal', 'dish', 'cuisine', 'servings', 'time_required', 'ingredients', 'directions']]\n",
    "recipes = recipes.reset_index().rename(columns={'index': 'recipe_id'})"
   ]
  },
  {
   "cell_type": "markdown",
   "metadata": {},
   "source": [
    "### Retrieve users from the recipe list to populate User table"
   ]
  },
  {
   "cell_type": "code",
   "execution_count": 39,
   "metadata": {},
   "outputs": [],
   "source": [
    "users = recipes.drop_duplicates('author')['author'].reset_index(drop=True)\n",
    "users = users.reset_index().rename(columns={'index': 'user_id', 'author': 'name'})"
   ]
  },
  {
   "cell_type": "markdown",
   "metadata": {},
   "source": [
    "### Retrieve ingredients from the recipe list to populate Ingredient table"
   ]
  },
  {
   "cell_type": "code",
   "execution_count": 40,
   "metadata": {},
   "outputs": [],
   "source": [
    "ingredients = recipes.explode('ingredients')\n",
    "ingredients = ingredients.reset_index()\n",
    "ingredients = ingredients.drop(columns='name')\n",
    "split = pd.DataFrame(ingredients['ingredients'].to_list(), columns = ['name', 'amount', 'metric'])\n",
    "ingredients = pd.concat([ingredients, split], axis=1)[['recipe_id', 'name', 'amount', 'metric']]\n",
    "ingredients = ingredients.reset_index().rename(columns={'index': 'ingredient_id'})"
   ]
  },
  {
   "cell_type": "markdown",
   "metadata": {},
   "source": [
    "### Use IDs from Ingredient and User table to add references in Recipe table"
   ]
  },
  {
   "cell_type": "code",
   "execution_count": 41,
   "metadata": {},
   "outputs": [],
   "source": [
    "recipes['ingredients'] = recipes['recipe_id'].apply(lambda x: ingredients.loc[ingredients['recipe_id'] == x, 'ingredient_id'].to_list())"
   ]
  },
  {
   "cell_type": "code",
   "execution_count": 42,
   "metadata": {},
   "outputs": [],
   "source": [
    "recipes['user_id'] = recipes['author'].apply(lambda x: users.loc[users['name']== x, 'user_id'].iloc[0])\n",
    "recipes = recipes.drop(columns = 'author')"
   ]
  },
  {
   "cell_type": "code",
   "execution_count": 43,
   "metadata": {},
   "outputs": [
    {
     "data": {
      "text/plain": [
       "50"
      ]
     },
     "execution_count": 43,
     "metadata": {},
     "output_type": "execute_result"
    }
   ],
   "source": [
    "# recipes.name.drop_duplicates().count()\n",
    "recipes.name.count()"
   ]
  },
  {
   "cell_type": "markdown",
   "metadata": {},
   "source": [
    "### Verify tables have been set up properly"
   ]
  },
  {
   "cell_type": "code",
   "execution_count": 46,
   "metadata": {},
   "outputs": [],
   "source": [
    "# recipes.head()"
   ]
  },
  {
   "cell_type": "code",
   "execution_count": 47,
   "metadata": {},
   "outputs": [],
   "source": [
    "# ingredients['name'].unique()"
   ]
  },
  {
   "cell_type": "markdown",
   "metadata": {},
   "source": [
    "### QA/QC to make sure the numbers are isolated"
   ]
  },
  {
   "cell_type": "code",
   "execution_count": 48,
   "metadata": {},
   "outputs": [
    {
     "data": {
      "text/plain": [
       "array(['2', '1', '3', '', '4', '6', '1/4', '1/2', '9', '28', '15', '14',\n",
       "       '250', '200', '500', '8', '1 1/2', '400', '300', '100', '800',\n",
       "       '20', '12', '5', '150'], dtype=object)"
      ]
     },
     "execution_count": 48,
     "metadata": {},
     "output_type": "execute_result"
    }
   ],
   "source": [
    "ingredients['amount'].unique()"
   ]
  },
  {
   "cell_type": "markdown",
   "metadata": {},
   "source": [
    "### Write to tables to individual CSVs "
   ]
  },
  {
   "cell_type": "code",
   "execution_count": 49,
   "metadata": {},
   "outputs": [],
   "source": [
    "recipes.to_csv('recipes.csv')"
   ]
  },
  {
   "cell_type": "code",
   "execution_count": 50,
   "metadata": {},
   "outputs": [],
   "source": [
    "ingredients.to_csv('ingredients.csv')"
   ]
  },
  {
   "cell_type": "code",
   "execution_count": 51,
   "metadata": {},
   "outputs": [],
   "source": [
    "users.to_csv('users.csv')"
   ]
  },
  {
   "cell_type": "markdown",
   "metadata": {},
   "source": [
    "## Read Comments JSON and write to Ratings CSV"
   ]
  },
  {
   "cell_type": "markdown",
   "metadata": {},
   "source": [
    "### Read comments json and clean dataframe (populated from ChatGPT)"
   ]
  },
  {
   "cell_type": "code",
   "execution_count": 117,
   "metadata": {},
   "outputs": [],
   "source": [
    "ratings = pd.read_json('../seeds/comments.json', orient='index')\n",
    "ratings = ratings['comments'].explode()\n",
    "ratings = ratings.reset_index().rename(columns={'index':'recipe_id', 'comments': 'comment'})"
   ]
  },
  {
   "cell_type": "markdown",
   "metadata": {},
   "source": [
    "### Generate random ratings and user_ids"
   ]
  },
  {
   "cell_type": "code",
   "execution_count": 118,
   "metadata": {},
   "outputs": [],
   "source": [
    "ratings['rating'] = np.random.randint(3, 6, ratings.shape[0])\n",
    "ratings['user_id'] = np.random.randint(0, 49, ratings.shape[0])\n",
    "ratings = ratings.reset_index().rename(columns={'index':'rating_id'})"
   ]
  },
  {
   "cell_type": "markdown",
   "metadata": {},
   "source": [
    "### Verify data is formatted correctly"
   ]
  },
  {
   "cell_type": "code",
   "execution_count": 119,
   "metadata": {},
   "outputs": [
    {
     "data": {
      "text/html": [
       "<div>\n",
       "<style scoped>\n",
       "    .dataframe tbody tr th:only-of-type {\n",
       "        vertical-align: middle;\n",
       "    }\n",
       "\n",
       "    .dataframe tbody tr th {\n",
       "        vertical-align: top;\n",
       "    }\n",
       "\n",
       "    .dataframe thead th {\n",
       "        text-align: right;\n",
       "    }\n",
       "</style>\n",
       "<table border=\"1\" class=\"dataframe\">\n",
       "  <thead>\n",
       "    <tr style=\"text-align: right;\">\n",
       "      <th></th>\n",
       "      <th>rating_id</th>\n",
       "      <th>recipe_id</th>\n",
       "      <th>comment</th>\n",
       "      <th>rating</th>\n",
       "      <th>user_id</th>\n",
       "    </tr>\n",
       "  </thead>\n",
       "  <tbody>\n",
       "    <tr>\n",
       "      <th>130</th>\n",
       "      <td>130</td>\n",
       "      <td>48</td>\n",
       "      <td>A taste of Korea! The Dak Galbi was flavorful ...</td>\n",
       "      <td>3</td>\n",
       "      <td>19</td>\n",
       "    </tr>\n",
       "    <tr>\n",
       "      <th>131</th>\n",
       "      <td>131</td>\n",
       "      <td>48</td>\n",
       "      <td>Delicious and satisfying. Dak Galbi is a must-...</td>\n",
       "      <td>3</td>\n",
       "      <td>16</td>\n",
       "    </tr>\n",
       "    <tr>\n",
       "      <th>132</th>\n",
       "      <td>132</td>\n",
       "      <td>49</td>\n",
       "      <td>Banchan - Spinach Namul is a Korean side dish ...</td>\n",
       "      <td>3</td>\n",
       "      <td>0</td>\n",
       "    </tr>\n",
       "    <tr>\n",
       "      <th>133</th>\n",
       "      <td>133</td>\n",
       "      <td>49</td>\n",
       "      <td>A taste of Korea! The Banchan - Spinach Namul ...</td>\n",
       "      <td>5</td>\n",
       "      <td>47</td>\n",
       "    </tr>\n",
       "    <tr>\n",
       "      <th>134</th>\n",
       "      <td>134</td>\n",
       "      <td>49</td>\n",
       "      <td>Authentic and delicious. Banchan - Spinach Nam...</td>\n",
       "      <td>5</td>\n",
       "      <td>21</td>\n",
       "    </tr>\n",
       "    <tr>\n",
       "      <th>135</th>\n",
       "      <td>135</td>\n",
       "      <td>5</td>\n",
       "      <td>Spicy, savory, and the shrimp were cooked to p...</td>\n",
       "      <td>3</td>\n",
       "      <td>45</td>\n",
       "    </tr>\n",
       "    <tr>\n",
       "      <th>136</th>\n",
       "      <td>136</td>\n",
       "      <td>5</td>\n",
       "      <td>Absolutely loved it! The balance of flavors an...</td>\n",
       "      <td>4</td>\n",
       "      <td>36</td>\n",
       "    </tr>\n",
       "    <tr>\n",
       "      <th>137</th>\n",
       "      <td>137</td>\n",
       "      <td>5</td>\n",
       "      <td>Thai red curry is my go-to, and this recipe di...</td>\n",
       "      <td>4</td>\n",
       "      <td>4</td>\n",
       "    </tr>\n",
       "    <tr>\n",
       "      <th>138</th>\n",
       "      <td>138</td>\n",
       "      <td>6</td>\n",
       "      <td>Crispy on the outside, tender on the inside. T...</td>\n",
       "      <td>3</td>\n",
       "      <td>34</td>\n",
       "    </tr>\n",
       "    <tr>\n",
       "      <th>139</th>\n",
       "      <td>139</td>\n",
       "      <td>6</td>\n",
       "      <td>A delightful salmon dish. The lemon and garlic...</td>\n",
       "      <td>3</td>\n",
       "      <td>6</td>\n",
       "    </tr>\n",
       "    <tr>\n",
       "      <th>140</th>\n",
       "      <td>140</td>\n",
       "      <td>6</td>\n",
       "      <td>Perfectly crispy salmon with a burst of lemon ...</td>\n",
       "      <td>4</td>\n",
       "      <td>34</td>\n",
       "    </tr>\n",
       "    <tr>\n",
       "      <th>141</th>\n",
       "      <td>141</td>\n",
       "      <td>7</td>\n",
       "      <td>A spicy and hearty dish that's now in my regul...</td>\n",
       "      <td>4</td>\n",
       "      <td>34</td>\n",
       "    </tr>\n",
       "    <tr>\n",
       "      <th>142</th>\n",
       "      <td>142</td>\n",
       "      <td>7</td>\n",
       "      <td>This jambalaya has a great kick! The flavors a...</td>\n",
       "      <td>3</td>\n",
       "      <td>38</td>\n",
       "    </tr>\n",
       "    <tr>\n",
       "      <th>143</th>\n",
       "      <td>143</td>\n",
       "      <td>7</td>\n",
       "      <td>A great way to spice up my meals. I'll definit...</td>\n",
       "      <td>5</td>\n",
       "      <td>9</td>\n",
       "    </tr>\n",
       "    <tr>\n",
       "      <th>144</th>\n",
       "      <td>144</td>\n",
       "      <td>8</td>\n",
       "      <td>Fresh and vibrant! The feta and olives really ...</td>\n",
       "      <td>4</td>\n",
       "      <td>45</td>\n",
       "    </tr>\n",
       "    <tr>\n",
       "      <th>145</th>\n",
       "      <td>145</td>\n",
       "      <td>8</td>\n",
       "      <td>A classic Greek salad done right. Simple, yet ...</td>\n",
       "      <td>3</td>\n",
       "      <td>14</td>\n",
       "    </tr>\n",
       "    <tr>\n",
       "      <th>146</th>\n",
       "      <td>146</td>\n",
       "      <td>8</td>\n",
       "      <td>Love the crunch of the cucumbers and the tangi...</td>\n",
       "      <td>5</td>\n",
       "      <td>28</td>\n",
       "    </tr>\n",
       "    <tr>\n",
       "      <th>147</th>\n",
       "      <td>147</td>\n",
       "      <td>9</td>\n",
       "      <td>A simple and classic favorite. The combination...</td>\n",
       "      <td>4</td>\n",
       "      <td>44</td>\n",
       "    </tr>\n",
       "    <tr>\n",
       "      <th>148</th>\n",
       "      <td>148</td>\n",
       "      <td>9</td>\n",
       "      <td>Authentic and delicious. This Margherita pizza...</td>\n",
       "      <td>5</td>\n",
       "      <td>37</td>\n",
       "    </tr>\n",
       "    <tr>\n",
       "      <th>149</th>\n",
       "      <td>149</td>\n",
       "      <td>9</td>\n",
       "      <td>Perfectly balanced flavors. The basil really s...</td>\n",
       "      <td>3</td>\n",
       "      <td>20</td>\n",
       "    </tr>\n",
       "  </tbody>\n",
       "</table>\n",
       "</div>"
      ],
      "text/plain": [
       "     rating_id  recipe_id                                            comment   \n",
       "130        130         48  A taste of Korea! The Dak Galbi was flavorful ...  \\\n",
       "131        131         48  Delicious and satisfying. Dak Galbi is a must-...   \n",
       "132        132         49  Banchan - Spinach Namul is a Korean side dish ...   \n",
       "133        133         49  A taste of Korea! The Banchan - Spinach Namul ...   \n",
       "134        134         49  Authentic and delicious. Banchan - Spinach Nam...   \n",
       "135        135          5  Spicy, savory, and the shrimp were cooked to p...   \n",
       "136        136          5  Absolutely loved it! The balance of flavors an...   \n",
       "137        137          5  Thai red curry is my go-to, and this recipe di...   \n",
       "138        138          6  Crispy on the outside, tender on the inside. T...   \n",
       "139        139          6  A delightful salmon dish. The lemon and garlic...   \n",
       "140        140          6  Perfectly crispy salmon with a burst of lemon ...   \n",
       "141        141          7  A spicy and hearty dish that's now in my regul...   \n",
       "142        142          7  This jambalaya has a great kick! The flavors a...   \n",
       "143        143          7  A great way to spice up my meals. I'll definit...   \n",
       "144        144          8  Fresh and vibrant! The feta and olives really ...   \n",
       "145        145          8  A classic Greek salad done right. Simple, yet ...   \n",
       "146        146          8  Love the crunch of the cucumbers and the tangi...   \n",
       "147        147          9  A simple and classic favorite. The combination...   \n",
       "148        148          9  Authentic and delicious. This Margherita pizza...   \n",
       "149        149          9  Perfectly balanced flavors. The basil really s...   \n",
       "\n",
       "     rating  user_id  \n",
       "130       3       19  \n",
       "131       3       16  \n",
       "132       3        0  \n",
       "133       5       47  \n",
       "134       5       21  \n",
       "135       3       45  \n",
       "136       4       36  \n",
       "137       4        4  \n",
       "138       3       34  \n",
       "139       3        6  \n",
       "140       4       34  \n",
       "141       4       34  \n",
       "142       3       38  \n",
       "143       5        9  \n",
       "144       4       45  \n",
       "145       3       14  \n",
       "146       5       28  \n",
       "147       4       44  \n",
       "148       5       37  \n",
       "149       3       20  "
      ]
     },
     "execution_count": 119,
     "metadata": {},
     "output_type": "execute_result"
    }
   ],
   "source": [
    "ratings.tail(20)"
   ]
  },
  {
   "cell_type": "markdown",
   "metadata": {},
   "source": [
    "### QA/QC to make sure the recipe_ids are complete"
   ]
  },
  {
   "cell_type": "code",
   "execution_count": 120,
   "metadata": {},
   "outputs": [
    {
     "name": "stdout",
     "output_type": "stream",
     "text": [
      "set()\n",
      "set()\n"
     ]
    }
   ],
   "source": [
    "print(set(range(0, 50))-set(ratings.recipe_id.unique()))\n",
    "print(set(ratings.recipe_id.unique())-set(range(0, 50)))"
   ]
  },
  {
   "cell_type": "markdown",
   "metadata": {},
   "source": [
    "### Write to table to CSV"
   ]
  },
  {
   "cell_type": "code",
   "execution_count": 121,
   "metadata": {},
   "outputs": [],
   "source": [
    "ratings.to_csv('ratings.csv')"
   ]
  },
  {
   "cell_type": "code",
   "execution_count": null,
   "metadata": {},
   "outputs": [],
   "source": []
  }
 ],
 "metadata": {
  "kernelspec": {
   "display_name": "Python 3",
   "language": "python",
   "name": "python3"
  },
  "language_info": {
   "codemirror_mode": {
    "name": "ipython",
    "version": 3
   },
   "file_extension": ".py",
   "mimetype": "text/x-python",
   "name": "python",
   "nbconvert_exporter": "python",
   "pygments_lexer": "ipython3",
   "version": "3.11.4"
  },
  "orig_nbformat": 4
 },
 "nbformat": 4,
 "nbformat_minor": 2
}
